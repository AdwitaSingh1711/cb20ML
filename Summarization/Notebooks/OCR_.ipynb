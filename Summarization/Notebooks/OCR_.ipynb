{
  "cells": [
    {
      "cell_type": "markdown",
      "metadata": {
        "colab_type": "text",
        "id": "view-in-github"
      },
      "source": [
        "<a href=\"https://colab.research.google.com/github/AdwitaSingh1711/cb20ML/blob/main/OCR_.ipynb\" target=\"_parent\"><img src=\"https://colab.research.google.com/assets/colab-badge.svg\" alt=\"Open In Colab\"/></a>"
      ]
    },
    {
      "cell_type": "code",
      "execution_count": 1,
      "id": "9Mz2_o7uuwc7",
      "metadata": {
        "colab": {
          "base_uri": "https://localhost:8080/"
        },
        "id": "9Mz2_o7uuwc7",
        "outputId": "44907c54-27fb-4811-cbf3-932030c2d932"
      },
      "outputs": [
        {
          "name": "stdout",
          "output_type": "stream",
          "text": [
            "Password:\n",
            "sudo: a password is required\n"
          ]
        }
      ],
      "source": [
        "#!sudo apt install tesseract-ocr"
      ]
    },
    {
      "cell_type": "code",
      "execution_count": null,
      "id": "PzdOoc2bAaZg",
      "metadata": {
        "colab": {
          "base_uri": "https://localhost:8080/"
        },
        "id": "PzdOoc2bAaZg",
        "outputId": "13d6c62c-6abe-47d6-d87a-e9a07f4f8c30"
      },
      "outputs": [
        {
          "name": "stdout",
          "output_type": "stream",
          "text": [
            "Looking in indexes: https://pypi.org/simple, https://us-python.pkg.dev/colab-wheels/public/simple/\n",
            "Requirement already satisfied: pytesseract in /usr/local/lib/python3.8/dist-packages (0.3.10)\n",
            "Requirement already satisfied: Pillow>=8.0.0 in /usr/local/lib/python3.8/dist-packages (from pytesseract) (9.3.0)\n",
            "Requirement already satisfied: packaging>=21.3 in /usr/local/lib/python3.8/dist-packages (from pytesseract) (21.3)\n",
            "Requirement already satisfied: pyparsing!=3.0.5,>=2.0.2 in /usr/local/lib/python3.8/dist-packages (from packaging>=21.3->pytesseract) (3.0.9)\n"
          ]
        }
      ],
      "source": [
        "#!pip install pytesseract"
      ]
    },
    {
      "cell_type": "code",
      "execution_count": 9,
      "id": "9SPpA8HO_3QW",
      "metadata": {
        "id": "9SPpA8HO_3QW"
      },
      "outputs": [],
      "source": [
        "#import pytesseract\n",
        "#import shutil\n",
        "#import os\n",
        "#import random\n",
        "#try:\n",
        "# from PIL import Image\n",
        "#except ImportError:\n",
        "# import Image"
      ]
    },
    {
      "cell_type": "code",
      "execution_count": null,
      "id": "172ac7e2",
      "metadata": {},
      "outputs": [],
      "source": []
    },
    {
      "cell_type": "code",
      "execution_count": 25,
      "id": "nHOnjq1_AA-U",
      "metadata": {
        "colab": {
          "base_uri": "https://localhost:8080/",
          "height": 74
        },
        "id": "nHOnjq1_AA-U",
        "outputId": "3de59349-555f-4483-91b7-d340deb88c81"
      },
      "outputs": [
        {
          "data": {
            "text/html": [
              "\n",
              "     <input type=\"file\" id=\"files-3ab111dd-6b84-492b-8aca-b99e3ba9840d\" name=\"files[]\" multiple disabled\n",
              "        style=\"border:none\" />\n",
              "     <output id=\"result-3ab111dd-6b84-492b-8aca-b99e3ba9840d\">\n",
              "      Upload widget is only available when the cell has been executed in the\n",
              "      current browser session. Please rerun this cell to enable.\n",
              "      </output>\n",
              "      <script>// Copyright 2017 Google LLC\n",
              "//\n",
              "// Licensed under the Apache License, Version 2.0 (the \"License\");\n",
              "// you may not use this file except in compliance with the License.\n",
              "// You may obtain a copy of the License at\n",
              "//\n",
              "//      http://www.apache.org/licenses/LICENSE-2.0\n",
              "//\n",
              "// Unless required by applicable law or agreed to in writing, software\n",
              "// distributed under the License is distributed on an \"AS IS\" BASIS,\n",
              "// WITHOUT WARRANTIES OR CONDITIONS OF ANY KIND, either express or implied.\n",
              "// See the License for the specific language governing permissions and\n",
              "// limitations under the License.\n",
              "\n",
              "/**\n",
              " * @fileoverview Helpers for google.colab Python module.\n",
              " */\n",
              "(function(scope) {\n",
              "function span(text, styleAttributes = {}) {\n",
              "  const element = document.createElement('span');\n",
              "  element.textContent = text;\n",
              "  for (const key of Object.keys(styleAttributes)) {\n",
              "    element.style[key] = styleAttributes[key];\n",
              "  }\n",
              "  return element;\n",
              "}\n",
              "\n",
              "// Max number of bytes which will be uploaded at a time.\n",
              "const MAX_PAYLOAD_SIZE = 100 * 1024;\n",
              "\n",
              "function _uploadFiles(inputId, outputId) {\n",
              "  const steps = uploadFilesStep(inputId, outputId);\n",
              "  const outputElement = document.getElementById(outputId);\n",
              "  // Cache steps on the outputElement to make it available for the next call\n",
              "  // to uploadFilesContinue from Python.\n",
              "  outputElement.steps = steps;\n",
              "\n",
              "  return _uploadFilesContinue(outputId);\n",
              "}\n",
              "\n",
              "// This is roughly an async generator (not supported in the browser yet),\n",
              "// where there are multiple asynchronous steps and the Python side is going\n",
              "// to poll for completion of each step.\n",
              "// This uses a Promise to block the python side on completion of each step,\n",
              "// then passes the result of the previous step as the input to the next step.\n",
              "function _uploadFilesContinue(outputId) {\n",
              "  const outputElement = document.getElementById(outputId);\n",
              "  const steps = outputElement.steps;\n",
              "\n",
              "  const next = steps.next(outputElement.lastPromiseValue);\n",
              "  return Promise.resolve(next.value.promise).then((value) => {\n",
              "    // Cache the last promise value to make it available to the next\n",
              "    // step of the generator.\n",
              "    outputElement.lastPromiseValue = value;\n",
              "    return next.value.response;\n",
              "  });\n",
              "}\n",
              "\n",
              "/**\n",
              " * Generator function which is called between each async step of the upload\n",
              " * process.\n",
              " * @param {string} inputId Element ID of the input file picker element.\n",
              " * @param {string} outputId Element ID of the output display.\n",
              " * @return {!Iterable<!Object>} Iterable of next steps.\n",
              " */\n",
              "function* uploadFilesStep(inputId, outputId) {\n",
              "  const inputElement = document.getElementById(inputId);\n",
              "  inputElement.disabled = false;\n",
              "\n",
              "  const outputElement = document.getElementById(outputId);\n",
              "  outputElement.innerHTML = '';\n",
              "\n",
              "  const pickedPromise = new Promise((resolve) => {\n",
              "    inputElement.addEventListener('change', (e) => {\n",
              "      resolve(e.target.files);\n",
              "    });\n",
              "  });\n",
              "\n",
              "  const cancel = document.createElement('button');\n",
              "  inputElement.parentElement.appendChild(cancel);\n",
              "  cancel.textContent = 'Cancel upload';\n",
              "  const cancelPromise = new Promise((resolve) => {\n",
              "    cancel.onclick = () => {\n",
              "      resolve(null);\n",
              "    };\n",
              "  });\n",
              "\n",
              "  // Wait for the user to pick the files.\n",
              "  const files = yield {\n",
              "    promise: Promise.race([pickedPromise, cancelPromise]),\n",
              "    response: {\n",
              "      action: 'starting',\n",
              "    }\n",
              "  };\n",
              "\n",
              "  cancel.remove();\n",
              "\n",
              "  // Disable the input element since further picks are not allowed.\n",
              "  inputElement.disabled = true;\n",
              "\n",
              "  if (!files) {\n",
              "    return {\n",
              "      response: {\n",
              "        action: 'complete',\n",
              "      }\n",
              "    };\n",
              "  }\n",
              "\n",
              "  for (const file of files) {\n",
              "    const li = document.createElement('li');\n",
              "    li.append(span(file.name, {fontWeight: 'bold'}));\n",
              "    li.append(span(\n",
              "        `(${file.type || 'n/a'}) - ${file.size} bytes, ` +\n",
              "        `last modified: ${\n",
              "            file.lastModifiedDate ? file.lastModifiedDate.toLocaleDateString() :\n",
              "                                    'n/a'} - `));\n",
              "    const percent = span('0% done');\n",
              "    li.appendChild(percent);\n",
              "\n",
              "    outputElement.appendChild(li);\n",
              "\n",
              "    const fileDataPromise = new Promise((resolve) => {\n",
              "      const reader = new FileReader();\n",
              "      reader.onload = (e) => {\n",
              "        resolve(e.target.result);\n",
              "      };\n",
              "      reader.readAsArrayBuffer(file);\n",
              "    });\n",
              "    // Wait for the data to be ready.\n",
              "    let fileData = yield {\n",
              "      promise: fileDataPromise,\n",
              "      response: {\n",
              "        action: 'continue',\n",
              "      }\n",
              "    };\n",
              "\n",
              "    // Use a chunked sending to avoid message size limits. See b/62115660.\n",
              "    let position = 0;\n",
              "    do {\n",
              "      const length = Math.min(fileData.byteLength - position, MAX_PAYLOAD_SIZE);\n",
              "      const chunk = new Uint8Array(fileData, position, length);\n",
              "      position += length;\n",
              "\n",
              "      const base64 = btoa(String.fromCharCode.apply(null, chunk));\n",
              "      yield {\n",
              "        response: {\n",
              "          action: 'append',\n",
              "          file: file.name,\n",
              "          data: base64,\n",
              "        },\n",
              "      };\n",
              "\n",
              "      let percentDone = fileData.byteLength === 0 ?\n",
              "          100 :\n",
              "          Math.round((position / fileData.byteLength) * 100);\n",
              "      percent.textContent = `${percentDone}% done`;\n",
              "\n",
              "    } while (position < fileData.byteLength);\n",
              "  }\n",
              "\n",
              "  // All done.\n",
              "  yield {\n",
              "    response: {\n",
              "      action: 'complete',\n",
              "    }\n",
              "  };\n",
              "}\n",
              "\n",
              "scope.google = scope.google || {};\n",
              "scope.google.colab = scope.google.colab || {};\n",
              "scope.google.colab._files = {\n",
              "  _uploadFiles,\n",
              "  _uploadFilesContinue,\n",
              "};\n",
              "})(self);\n",
              "</script> "
            ],
            "text/plain": [
              "<IPython.core.display.HTML object>"
            ]
          },
          "metadata": {},
          "output_type": "display_data"
        },
        {
          "name": "stdout",
          "output_type": "stream",
          "text": [
            "Saving image.png to image.png\n"
          ]
        }
      ],
      "source": [
        "from google.colab import files\n",
        "uploaded = files.upload()"
      ]
    },
    {
      "cell_type": "code",
      "execution_count": 26,
      "id": "7YtZyS7gABhv",
      "metadata": {
        "id": "7YtZyS7gABhv"
      },
      "outputs": [],
      "source": [
        "image_path_in_colab = 'image.png'"
      ]
    },
    {
      "cell_type": "code",
      "execution_count": 27,
      "id": "AfKBJ8abAnlO",
      "metadata": {
        "id": "AfKBJ8abAnlO"
      },
      "outputs": [],
      "source": [
        "extractedInformation = pytesseract.image_to_string(Image.open(image_path_in_colab))"
      ]
    },
    {
      "cell_type": "code",
      "execution_count": 28,
      "id": "QyOcBJOUAn8f",
      "metadata": {
        "colab": {
          "base_uri": "https://localhost:8080/"
        },
        "id": "QyOcBJOUAn8f",
        "outputId": "ea082e60-e21d-4148-b571-b59964d16ba6"
      },
      "outputs": [
        {
          "name": "stdout",
          "output_type": "stream",
          "text": [
            " \n",
            "\n",
            "Azw YEARS AGO the city council of\n",
            "Monza, Italy, barred pet owners from keeping\n",
            "goldfish in curved goldfish bowls. The measure’s\n",
            "sponsor explained the measure in part by saying\n",
            "that it is cruel to keep a fish in a bowl with curved\n",
            "sides because, gazing out, the fish would have a\n",
            "distorted view of reality. But how do we know we\n",
            "have the true, undistorted picture of reality? Might\n",
            "not we ourselves also be inside some big goldfish\n",
            "bowl and have our vision distorted by an\n",
            "enormous lens? The goldfish’s picture of reality is\n",
            "different from ours, but can we be sure it is less\n",
            "real?\n",
            "\n",
            "The goldfish view is not the same as our own,\n",
            "but goldfish could still formulate scientific laws\n",
            "governing the motion of the objects they observe\n",
            "outside their bowl. For example, due to the\n",
            "distortion, a freely moving object that we would\n",
            "observe to move in a straight line would be\n",
            "observed by the goldfish to move along a curved\n",
            "path. Nevertheless, the goldfish could formulate\n",
            "scientific laws from their distorted frame of\n",
            "reference that would always hold true and that\n",
            "\n",
            "would enable them to make predictions about the\n",
            "future motion of objects outside the bowl. Their\n",
            "laws would be more complicated than the laws in\n",
            "our frame, but simplicity is a matter of taste. If a\n",
            "goldfish formulated such a theory, we would have\n",
            "to admit the goldfish’s view as a valid picture of\n",
            "reality.\n",
            "\n",
            "‘A famous example of different pictures of\n",
            "reality is the model introduced around AD 150 by\n",
            "Ptolemy (ca. 85—ca. 165) to describe the motion of\n",
            "the celestial bodies. Ptolemy published his work in\n",
            "a thirteen-book treatise usually known under its\n",
            "Arabic title, Almagest. The Almagest begins by\n",
            "explaining reasons for thinking that the earth is\n",
            "spherical, motionless, positioned at the center of\n",
            "the universe, and negligibly small in comparison\n",
            "to the distance of the heavens. Despite\n",
            "Aristarchus’s heliocentric model, these beliefs had\n",
            "been held by most educated Greeks at least since\n",
            "the time of Aristotle, who believed for mystical\n",
            "reasons that the earth should be at the center of\n",
            "the universe. In Ptolemy’s model the earth stood\n",
            "still at the center and the planets and the stars\n",
            "moved around it in complicated orbits involving\n",
            "\f\n"
          ]
        }
      ],
      "source": [
        "print(extractedInformation)"
      ]
    },
    {
      "cell_type": "code",
      "execution_count": null,
      "id": "79e21855",
      "metadata": {},
      "outputs": [],
      "source": [
        "with open('file_name.txt', 'w') as f:\n",
        "    f.write(str(extractedInformation))\n",
        "\n",
        "f.close()"
      ]
    }
  ],
  "metadata": {
    "colab": {
      "include_colab_link": true,
      "provenance": []
    },
    "gpuClass": "standard",
    "kernelspec": {
      "display_name": "Summnb",
      "language": "python",
      "name": "python3"
    },
    "language_info": {
      "codemirror_mode": {
        "name": "ipython",
        "version": 3
      },
      "file_extension": ".py",
      "mimetype": "text/x-python",
      "name": "python",
      "nbconvert_exporter": "python",
      "pygments_lexer": "ipython3",
      "version": "3.9.15"
    },
    "vscode": {
      "interpreter": {
        "hash": "0012c5531f51c11b1a8918557ed33d05ae01c1282fb41ff952af673a5b4e3cd1"
      }
    }
  },
  "nbformat": 4,
  "nbformat_minor": 5
}
