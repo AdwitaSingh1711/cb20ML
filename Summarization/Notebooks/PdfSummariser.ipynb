{
  "cells": [
    {
      "cell_type": "code",
      "execution_count": null,
      "metadata": {
        "id": "Dpnuv_kbsFoy"
      },
      "outputs": [],
      "source": [
        "!pip install PyPDF2\n",
        "!pip install PyPDF2[crypto]"
      ]
    },
    {
      "cell_type": "code",
      "execution_count": 1,
      "metadata": {},
      "outputs": [
        {
          "ename": "FileNotFoundError",
          "evalue": "[Errno 2] No such file or directory: 'eng.txt'",
          "output_type": "error",
          "traceback": [
            "\u001b[0;31m---------------------------------------------------------------------------\u001b[0m",
            "\u001b[0;31mFileNotFoundError\u001b[0m                         Traceback (most recent call last)",
            "Cell \u001b[0;32mIn[1], line 1\u001b[0m\n\u001b[0;32m----> 1\u001b[0m text_file \u001b[39m=\u001b[39m \u001b[39mopen\u001b[39;49m(\u001b[39m\"\u001b[39;49m\u001b[39meng.txt\u001b[39;49m\u001b[39m\"\u001b[39;49m, \u001b[39m\"\u001b[39;49m\u001b[39mr\u001b[39;49m\u001b[39m\"\u001b[39;49m)\n\u001b[1;32m      2\u001b[0m text \u001b[39m=\u001b[39m text_file\u001b[39m.\u001b[39mread()\n",
            "File \u001b[0;32m~/opt/anaconda3/envs/Summnb/lib/python3.9/site-packages/IPython/core/interactiveshell.py:282\u001b[0m, in \u001b[0;36m_modified_open\u001b[0;34m(file, *args, **kwargs)\u001b[0m\n\u001b[1;32m    275\u001b[0m \u001b[39mif\u001b[39;00m file \u001b[39min\u001b[39;00m {\u001b[39m0\u001b[39m, \u001b[39m1\u001b[39m, \u001b[39m2\u001b[39m}:\n\u001b[1;32m    276\u001b[0m     \u001b[39mraise\u001b[39;00m \u001b[39mValueError\u001b[39;00m(\n\u001b[1;32m    277\u001b[0m         \u001b[39mf\u001b[39m\u001b[39m\"\u001b[39m\u001b[39mIPython won\u001b[39m\u001b[39m'\u001b[39m\u001b[39mt let you open fd=\u001b[39m\u001b[39m{\u001b[39;00mfile\u001b[39m}\u001b[39;00m\u001b[39m by default \u001b[39m\u001b[39m\"\u001b[39m\n\u001b[1;32m    278\u001b[0m         \u001b[39m\"\u001b[39m\u001b[39mas it is likely to crash IPython. If you know what you are doing, \u001b[39m\u001b[39m\"\u001b[39m\n\u001b[1;32m    279\u001b[0m         \u001b[39m\"\u001b[39m\u001b[39myou can use builtins\u001b[39m\u001b[39m'\u001b[39m\u001b[39m open.\u001b[39m\u001b[39m\"\u001b[39m\n\u001b[1;32m    280\u001b[0m     )\n\u001b[0;32m--> 282\u001b[0m \u001b[39mreturn\u001b[39;00m io_open(file, \u001b[39m*\u001b[39;49margs, \u001b[39m*\u001b[39;49m\u001b[39m*\u001b[39;49mkwargs)\n",
            "\u001b[0;31mFileNotFoundError\u001b[0m: [Errno 2] No such file or directory: 'eng.txt'"
          ]
        }
      ],
      "source": [
        "text_file = open(\"eng.txt\", \"r\")\n",
        "text = text_file.read()"
      ]
    },
    {
      "cell_type": "code",
      "execution_count": 62,
      "metadata": {
        "id": "fqqcfXZVsQRn"
      },
      "outputs": [],
      "source": [
        "from PyPDF2 import PdfReader"
      ]
    },
    {
      "cell_type": "code",
      "execution_count": null,
      "metadata": {
        "id": "v_1wgeXYJyfh"
      },
      "outputs": [],
      "source": [
        "from google.colab import files\n",
        "files.upload()"
      ]
    },
    {
      "cell_type": "code",
      "execution_count": 65,
      "metadata": {
        "id": "qbxoHXlssQ5c"
      },
      "outputs": [],
      "source": [
        "reader = PdfReader(\"X- ray Diffraction notes.pdf\")\n",
        "number_of_pages = len(reader.pages)\n",
        "page = reader.pages[0]\n",
        "text = page.extract_text()"
      ]
    },
    {
      "cell_type": "code",
      "execution_count": 66,
      "metadata": {
        "id": "KbkP6AdsBJe5"
      },
      "outputs": [],
      "source": [
        "import spacy\n",
        "from spacy.lang.en.stop_words import STOP_WORDS\n",
        "from string import punctuation\n",
        "from heapq import nlargest"
      ]
    },
    {
      "cell_type": "code",
      "execution_count": 68,
      "metadata": {
        "id": "NfxMeJDuCNP8"
      },
      "outputs": [],
      "source": [
        "def summarize(text, per):\n",
        "    nlp = spacy.load('en_core_web_sm')\n",
        "    document= nlp(text)\n",
        "    tokenizing=[token.text for token in document]\n",
        "    word_frequencies={}\n",
        "    for word in document:\n",
        "        if word.text.lower() not in list(STOP_WORDS):\n",
        "            if word.text.lower() not in punctuation:\n",
        "                if word.text not in word_frequencies.keys():\n",
        "                    word_frequencies[word.text] = 1\n",
        "                else:\n",
        "                    word_frequencies[word.text] += 1\n",
        "    max_frequency=max(word_frequencies.values())\n",
        "    for word in word_frequencies.keys():\n",
        "        word_frequencies[word]=word_frequencies[word]/max_frequency\n",
        "    sentence_tokens= [sent for sent in document.sents]\n",
        "    sentence_scores = {}\n",
        "    for sent in sentence_tokens:\n",
        "        for word in sent:\n",
        "            if word.text.lower() in word_frequencies.keys():\n",
        "                if sent not in sentence_scores.keys():                            \n",
        "                    sentence_scores[sent]=word_frequencies[word.text.lower()]\n",
        "                else:\n",
        "                    sentence_scores[sent]+=word_frequencies[word.text.lower()]\n",
        "    select_length=int(len(sentence_tokens)*per)\n",
        "    summary=nlargest(select_length, sentence_scores,key=sentence_scores.get)\n",
        "    final_summary=[word.text for word in summary]\n",
        "    summary=''.join(final_summary)\n",
        "    return summary"
      ]
    },
    {
      "cell_type": "code",
      "execution_count": 71,
      "metadata": {
        "colab": {
          "base_uri": "https://localhost:8080/",
          "height": 313
        },
        "id": "4v3aLeVkCPh1",
        "outputId": "82f93fa3-6cdb-4f82-a78d-60dde8dddfa8"
      },
      "outputs": [
        {
          "data": {
            "application/vnd.google.colaboratory.intrinsic+json": {
              "type": "string"
            },
            "text/plain": [
              "\"X-ray Diffraction (XRD) \\nDefinition \\nThe atomic planes of a \\ncrystal cause an incident \\nbeam of X-rays to \\ninterfere with one another \\nas they leave the crystal.Bragg’s Law: Bragg showed that if the diffraction from a crystal was considered as \\nreﬂections from imaginary planes of atoms within the crystal then an equation could be \\nformulated to predict where diffraction maxima would occur in a diffraction pattern. \\nIt is a \\nrapid analytical technique \\nprimarily used for phase identification of a crystalline material and can provide information on \\nunit cell dimensions. \\nPrinciples \\nMax von Laue, in 1912, discovered that crystalline substances act as three-dimensional \\ndiffraction gratings for X-ray wavelengths similar to the spacing of planes in a crystal lattice. \\nThe parallel rays hit the planes \\nin phase but the lower ray has a longer \\ndistance to travel than the upper one by the \\ntime they are both reﬂected.The Bragg relationship shows that \\nconstructive interference of the waves will \\nonly occur when the path difference is some \\nmultiple of the wavelength, λ.  \\nThe \\ninteraction of the incident rays with the sample produces constructive interference (and a \\ndiffracted ray) when conditions satisfy Bragg's Law (nλ = 2d sinθ).This law relates the \\nwavelength of electromagnetic radiation to the diffraction angle and the lattice spacing in a \\ncrystalline sample.By \\nscanning the sample through a range of 2θ angles, all possible diffraction directions of the \\nlattice should be attained due to the random orientation of the powdered material.Conversion \\nof the diffraction peaks to d−spacings allows identification of the mineral because each mineral \\nhas a set of unique d−spacings.  Consider a pair of parallel X-rays striking a \\npair of horizontal parallel planes as shown \\nin the Figure.Powder and \\nsingle crystal diffraction vary in instrumentation beyond this. \\nBy simple \\ntrigonometry it can be shown that nλ = \\n2dsinθ.X-ray diffraction is now a common technique for the study of crystal structures and atomic \\nspacing.All diffraction methods are based on generation of X-rays in an X-\\nray tube.X−ray diffraction is based on constructive interference of monochromatic X−rays and \\na crystalline sample.A key \\ncomponent of all diffraction is the angle between the incident and diffracted rays.These X−rays are generated by a cathode ray tube, filtered to produce \\nmonochromatic radiation, collimated to concentrate, and directed toward the sample.The phenomenon is called \\nX-ray diffraction.  Typically, this is achieved by comparison of d-spacings with \\nstandard reference patterns.Figure: Bragg’s Law of reﬂection. \\nThese X-rays are directed at the sample, and the diffracted rays are collected.These diffracted X−rays are then detected, processed and counted. \\n\\uf0b7\""
            ]
          },
          "execution_count": 71,
          "metadata": {},
          "output_type": "execute_result"
        }
      ],
      "source": [
        "summarize(text, 1.5)"
      ]
    }
  ],
  "metadata": {
    "colab": {
      "provenance": []
    },
    "kernelspec": {
      "display_name": "Summnb",
      "language": "python",
      "name": "python3"
    },
    "language_info": {
      "codemirror_mode": {
        "name": "ipython",
        "version": 3
      },
      "file_extension": ".py",
      "mimetype": "text/x-python",
      "name": "python",
      "nbconvert_exporter": "python",
      "pygments_lexer": "ipython3",
      "version": "3.9.15"
    },
    "vscode": {
      "interpreter": {
        "hash": "0012c5531f51c11b1a8918557ed33d05ae01c1282fb41ff952af673a5b4e3cd1"
      }
    }
  },
  "nbformat": 4,
  "nbformat_minor": 0
}
