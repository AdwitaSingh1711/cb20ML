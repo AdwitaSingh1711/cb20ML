{
  "nbformat": 4,
  "nbformat_minor": 0,
  "metadata": {
    "colab": {
      "provenance": []
    },
    "kernelspec": {
      "name": "python3",
      "display_name": "Python 3"
    },
    "language_info": {
      "name": "python"
    }
  },
  "cells": [
    {
      "cell_type": "code",
      "source": [
        "!pip install PyPDF2\n",
        "!pip install PyPDF2[crypto]"
      ],
      "metadata": {
        "id": "Dpnuv_kbsFoy"
      },
      "execution_count": null,
      "outputs": []
    },
    {
      "cell_type": "code",
      "source": [
        "from PyPDF2 import PdfReader"
      ],
      "metadata": {
        "id": "fqqcfXZVsQRn"
      },
      "execution_count": 62,
      "outputs": []
    },
    {
      "cell_type": "code",
      "source": [
        "from google.colab import files\n",
        "files.upload()"
      ],
      "metadata": {
        "id": "v_1wgeXYJyfh"
      },
      "execution_count": null,
      "outputs": []
    },
    {
      "cell_type": "code",
      "source": [
        "reader = PdfReader(\"X- ray Diffraction notes.pdf\")\n",
        "number_of_pages = len(reader.pages)\n",
        "page = reader.pages[0]\n",
        "text = page.extract_text()"
      ],
      "metadata": {
        "id": "qbxoHXlssQ5c"
      },
      "execution_count": 65,
      "outputs": []
    },
    {
      "cell_type": "code",
      "source": [
        "import spacy\n",
        "from spacy.lang.en.stop_words import STOP_WORDS\n",
        "from string import punctuation\n",
        "from heapq import nlargest"
      ],
      "metadata": {
        "id": "KbkP6AdsBJe5"
      },
      "execution_count": 66,
      "outputs": []
    },
    {
      "cell_type": "code",
      "source": [
        "def summarize(text, per):\n",
        "    nlp = spacy.load('en_core_web_sm')\n",
        "    document= nlp(text)\n",
        "    tokenizing=[token.text for token in document]\n",
        "    word_frequencies={}\n",
        "    for word in document:\n",
        "        if word.text.lower() not in list(STOP_WORDS):\n",
        "            if word.text.lower() not in punctuation:\n",
        "                if word.text not in word_frequencies.keys():\n",
        "                    word_frequencies[word.text] = 1\n",
        "                else:\n",
        "                    word_frequencies[word.text] += 1\n",
        "    max_frequency=max(word_frequencies.values())\n",
        "    for word in word_frequencies.keys():\n",
        "        word_frequencies[word]=word_frequencies[word]/max_frequency\n",
        "    sentence_tokens= [sent for sent in document.sents]\n",
        "    sentence_scores = {}\n",
        "    for sent in sentence_tokens:\n",
        "        for word in sent:\n",
        "            if word.text.lower() in word_frequencies.keys():\n",
        "                if sent not in sentence_scores.keys():                            \n",
        "                    sentence_scores[sent]=word_frequencies[word.text.lower()]\n",
        "                else:\n",
        "                    sentence_scores[sent]+=word_frequencies[word.text.lower()]\n",
        "    select_length=int(len(sentence_tokens)*per)\n",
        "    summary=nlargest(select_length, sentence_scores,key=sentence_scores.get)\n",
        "    final_summary=[word.text for word in summary]\n",
        "    summary=''.join(final_summary)\n",
        "    return summary"
      ],
      "metadata": {
        "id": "NfxMeJDuCNP8"
      },
      "execution_count": 68,
      "outputs": []
    },
    {
      "cell_type": "code",
      "source": [
        "summarize(text, 1.5)"
      ],
      "metadata": {
        "colab": {
          "base_uri": "https://localhost:8080/",
          "height": 313
        },
        "id": "4v3aLeVkCPh1",
        "outputId": "82f93fa3-6cdb-4f82-a78d-60dde8dddfa8"
      },
      "execution_count": 71,
      "outputs": [
        {
          "output_type": "execute_result",
          "data": {
            "text/plain": [
              "\"X-ray Diffraction (XRD) \\nDefinition \\nThe atomic planes of a \\ncrystal cause an incident \\nbeam of X-rays to \\ninterfere with one another \\nas they leave the crystal.Bragg’s Law: Bragg showed that if the diffraction from a crystal was considered as \\nreﬂections from imaginary planes of atoms within the crystal then an equation could be \\nformulated to predict where diffraction maxima would occur in a diffraction pattern. \\nIt is a \\nrapid analytical technique \\nprimarily used for phase identification of a crystalline material and can provide information on \\nunit cell dimensions. \\nPrinciples \\nMax von Laue, in 1912, discovered that crystalline substances act as three-dimensional \\ndiffraction gratings for X-ray wavelengths similar to the spacing of planes in a crystal lattice. \\nThe parallel rays hit the planes \\nin phase but the lower ray has a longer \\ndistance to travel than the upper one by the \\ntime they are both reﬂected.The Bragg relationship shows that \\nconstructive interference of the waves will \\nonly occur when the path difference is some \\nmultiple of the wavelength, λ.  \\nThe \\ninteraction of the incident rays with the sample produces constructive interference (and a \\ndiffracted ray) when conditions satisfy Bragg's Law (nλ = 2d sinθ).This law relates the \\nwavelength of electromagnetic radiation to the diffraction angle and the lattice spacing in a \\ncrystalline sample.By \\nscanning the sample through a range of 2θ angles, all possible diffraction directions of the \\nlattice should be attained due to the random orientation of the powdered material.Conversion \\nof the diffraction peaks to d−spacings allows identification of the mineral because each mineral \\nhas a set of unique d−spacings.  Consider a pair of parallel X-rays striking a \\npair of horizontal parallel planes as shown \\nin the Figure.Powder and \\nsingle crystal diffraction vary in instrumentation beyond this. \\nBy simple \\ntrigonometry it can be shown that nλ = \\n2dsinθ.X-ray diffraction is now a common technique for the study of crystal structures and atomic \\nspacing.All diffraction methods are based on generation of X-rays in an X-\\nray tube.X−ray diffraction is based on constructive interference of monochromatic X−rays and \\na crystalline sample.A key \\ncomponent of all diffraction is the angle between the incident and diffracted rays.These X−rays are generated by a cathode ray tube, filtered to produce \\nmonochromatic radiation, collimated to concentrate, and directed toward the sample.The phenomenon is called \\nX-ray diffraction.  Typically, this is achieved by comparison of d-spacings with \\nstandard reference patterns.Figure: Bragg’s Law of reﬂection. \\nThese X-rays are directed at the sample, and the diffracted rays are collected.These diffracted X−rays are then detected, processed and counted. \\n\\uf0b7\""
            ],
            "application/vnd.google.colaboratory.intrinsic+json": {
              "type": "string"
            }
          },
          "metadata": {},
          "execution_count": 71
        }
      ]
    }
  ]
}